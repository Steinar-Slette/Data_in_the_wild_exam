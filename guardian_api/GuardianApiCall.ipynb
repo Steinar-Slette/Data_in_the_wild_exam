{
 "cells": [
  {
   "cell_type": "markdown",
   "source": [
    "#Notebook for Guardian API Call"
   ],
   "metadata": {
    "collapsed": false
   },
   "id": "2ea96cd1e1cc142e"
  },
  {
   "cell_type": "markdown",
   "source": [
    "###Import Packages for requests and data cleaning"
   ],
   "metadata": {
    "collapsed": false
   },
   "id": "89003acc25899690"
  },
  {
   "cell_type": "code",
   "execution_count": null,
   "outputs": [],
   "source": [
    "import requests\n",
    "import json\n",
    "import pandas as pd"
   ],
   "metadata": {
    "collapsed": false
   },
   "id": "98b8757553424c59"
  },
  {
   "cell_type": "markdown",
   "source": [
    "###Parameters for API Call"
   ],
   "metadata": {
    "collapsed": false
   },
   "id": "edd52c7ae4218bd"
  },
  {
   "cell_type": "code",
   "execution_count": null,
   "outputs": [],
   "source": [
    "api_endpoint = 'https://content.guardianapis.com/search'\n",
    "api_key = 'your_api_key_should_be_here'\n",
    "from_date = '2023-01-01'\n",
    "to_date = '2023-01-31'\n",
    "page_size = '50'\n",
    "max_number_of_pages = 120"
   ],
   "metadata": {
    "collapsed": false
   },
   "id": "381989f22d28c4c8"
  },
  {
   "cell_type": "markdown",
   "source": [
    "###Data Structures for storing response data"
   ],
   "metadata": {
    "collapsed": false
   },
   "id": "8194a366b99fb998"
  },
  {
   "cell_type": "code",
   "execution_count": null,
   "outputs": [],
   "source": [
    "article_title = str()\n",
    "article_date = str()\n",
    "article_text = str()\n",
    "article_url = str()\n",
    "article_authors = []\n",
    "article_keywords = []\n",
    "collection_of_responses = []"
   ],
   "metadata": {
    "collapsed": false
   },
   "id": "74841dc38f766649"
  },
  {
   "cell_type": "markdown",
   "source": [
    "###Call to Guardian API; looking for article text, author and keyword tags. Filtered so only articles are selected"
   ],
   "metadata": {
    "collapsed": false
   },
   "id": "d0bada791c0600cf"
  },
  {
   "cell_type": "code",
   "execution_count": null,
   "outputs": [],
   "source": [
    "#always make one call per page\n",
    "for i in range (1,  max_number_of_pages):\n",
    "    response = requests.get(api_endpoint,\n",
    "                            params={'api-key': api_key,\n",
    "                                    'from-date': from_date,\n",
    "                                    'to-date': to_date,\n",
    "                                    'page-size': page_size,\n",
    "                                    'type': 'article',\n",
    "                                    'show-blocks': 'body',\n",
    "                                    'show-tags': 'keyword,contributor',\n",
    "                                    'page': i})\n",
    "    #parse every page in response to store wanted data\n",
    "    for k in range(50):\n",
    "        try:\n",
    "            json_response = json.loads(response.content.decode('utf8'))\n",
    "            article_title = json_response['response']['results'][k]['webTitle']\n",
    "            article_date = json_response['response']['results'][k]['webPublicationDate']\n",
    "            article_text = json_response['response']['results'][k]['blocks']['body'][0]['bodyTextSummary']\n",
    "            article_url = json_response['response']['results'][k]['webUrl']\n",
    "        except IndexError:\n",
    "            break\n",
    "        #parse through tags to separate between authors and keywords\n",
    "        for j in range(50):\n",
    "            try:\n",
    "                if json_response['response']['results'][k]['tags'][j]['type'] == \"keyword\":\n",
    "                    article_keywords.append(json_response['response']['results'][k]['tags'][j]['webTitle'])\n",
    "                elif json_response['response']['results'][k]['tags'][j]['type'] == \"contributor\":\n",
    "                    article_authors.append(json_response['response']['results'][k]['tags'][j]['webTitle'])\n",
    "            except IndexError:\n",
    "                break\n",
    "\n",
    "        #fill in data if article has no authors or tags\n",
    "        if not article_authors:\n",
    "            article_authors.append(\"N/A\")\n",
    "        if not article_keywords:\n",
    "            article_keywords.append(\"N/A\")\n",
    "        \n",
    "        #add parsed response to list of lists\n",
    "        collection_of_responses.append([article_title,\n",
    "                                        article_date,\n",
    "                                        article_authors,\n",
    "                                        article_keywords,\n",
    "                                        article_text,\n",
    "                                        article_url])\n",
    "\n",
    "        #reset authors and keywords for next iteration\n",
    "        article_authors = []\n",
    "        article_keywords = []"
   ],
   "metadata": {
    "collapsed": false
   },
   "id": "75b548b4136082a6"
  },
  {
   "cell_type": "markdown",
   "source": [
    "###Create Dataframe and save as .csv"
   ],
   "metadata": {
    "collapsed": false
   },
   "id": "3e8a0f7e285d98ef"
  },
  {
   "cell_type": "code",
   "execution_count": null,
   "outputs": [],
   "source": [
    "api_responses_df = pd.DataFrame(collection_of_responses, columns=[\"Title\", \"Date\", \"Authors\", \"Tags\", \"Text\", \"Url\"])\n",
    "api_responses_df.to_csv(f'{to_date}_guardian.csv', sep=';')"
   ],
   "metadata": {
    "collapsed": false
   },
   "id": "39855a8e27158765"
  }
 ],
 "metadata": {
  "kernelspec": {
   "display_name": "Python 3",
   "language": "python",
   "name": "python3"
  },
  "language_info": {
   "codemirror_mode": {
    "name": "ipython",
    "version": 2
   },
   "file_extension": ".py",
   "mimetype": "text/x-python",
   "name": "python",
   "nbconvert_exporter": "python",
   "pygments_lexer": "ipython2",
   "version": "2.7.6"
  }
 },
 "nbformat": 4,
 "nbformat_minor": 5
}
