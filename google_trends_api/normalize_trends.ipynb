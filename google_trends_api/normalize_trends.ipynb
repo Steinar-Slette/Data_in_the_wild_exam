{
 "cells": [
  {
   "cell_type": "code",
   "execution_count": 1,
   "metadata": {},
   "outputs": [],
   "source": [
    "# Import libraries\n",
    "import os\n",
    "import time\n",
    "from pytrends.request import TrendReq\n",
    "import pandas as pd\n",
    "import random\n",
    "import statistics\n",
    "import csv\n",
    "import re\n",
    "import ast\n",
    "import numpy as np"
   ]
  },
  {
   "cell_type": "code",
   "execution_count": 2,
   "metadata": {},
   "outputs": [],
   "source": [
    "def normalize_time_series(csv_file_path, output_csv_path):\n",
    "    # Read the CSV files into an array\n",
    "    csv_files = [os.path.join(csv_file_path, file) for file in os.listdir(csv_file_path) if file.endswith('.csv')]\n",
    "    unique_tags = []\n",
    "    final_df = pd.DataFrame()\n",
    "\n",
    "    # Read and normalize all the csvs, file by file, and add the results if column name is not already present\n",
    "    for file in csv_files:\n",
    "        df = pd.read_csv(file, sep=';', index_col=False)\n",
    "        cols_to_add = []\n",
    "\n",
    "        ## Make the column names lowercase\n",
    "        df.columns = df.columns.str.lower()\n",
    "        normalized_df = df.groupby(\"date\", group_keys=False).apply(perform_normalization)\n",
    "        # Drop columns with the base name 'air travel'\n",
    "        air_travel_columns = [col for col in normalized_df.columns if 'air travel' in col]\n",
    "        normalized_df.drop(columns=air_travel_columns, inplace=True)\n",
    "        for col in normalized_df.columns:\n",
    "             if col not in unique_tags:\n",
    "                  cols_to_add.append(col)\n",
    "                  unique_tags.append(col)\n",
    "        final_df = pd.concat([final_df, normalized_df[cols_to_add]], axis=1)\n",
    "\n",
    "    final_df.to_csv(output_csv_path, sep=';', index=False)\n",
    "    print(f\"CSV file saved: {output_csv_path}\")\n",
    "    \n",
    "def perform_normalization(batch_df):\n",
    "        date = batch_df.iloc[:, 0]\n",
    "        batch_df.drop('ispartial', axis=1, inplace=True) # Drop ispartial column\n",
    "        batch_len = len(batch_df.columns)\n",
    "        batch_df.iloc[:, 1:batch_len] = batch_df.iloc[:, 1:batch_len].replace(0, 1)\n",
    "        tags_to_normalize = batch_df.iloc[:, 1:batch_len]\n",
    "        normalized_tags = tags_to_normalize.divide(tags_to_normalize.iloc[0, -1], axis=1)\n",
    "        normalized_tags = pd.concat([date, normalized_tags], axis=1)\n",
    "        return normalized_tags"
   ]
  },
  {
   "cell_type": "markdown",
   "metadata": {},
   "source": [
    "### Normalize data for <b>2022</b>"
   ]
  },
  {
   "cell_type": "code",
   "execution_count": 3,
   "metadata": {},
   "outputs": [
    {
     "name": "stdout",
     "output_type": "stream",
     "text": [
      "CSV file saved: C:\\School\\Semester_1\\Data_Wrangling\\Data_in_the_wild_exam\\data\\stage\\pytrends\\normalized_results_2022\\normalized_results_2022.csv\n"
     ]
    }
   ],
   "source": [
    "csv_file_path = r\"C:\\School\\Semester_1\\Data_Wrangling\\Data_in_the_wild_exam\\data\\raw\\pytrends\\raw_results_2022\"\n",
    "output_csv_path = r\"C:\\School\\Semester_1\\Data_Wrangling\\Data_in_the_wild_exam\\data\\stage\\pytrends\\normalized_results_2022\\normalized_results_2022.csv\"\n",
    "normalize_time_series(csv_file_path, output_csv_path)"
   ]
  },
  {
   "cell_type": "markdown",
   "metadata": {},
   "source": [
    "### Normalize data for <b>2023</b>"
   ]
  },
  {
   "cell_type": "code",
   "execution_count": 4,
   "metadata": {},
   "outputs": [
    {
     "name": "stdout",
     "output_type": "stream",
     "text": [
      "CSV file saved: C:\\School\\Semester_1\\Data_Wrangling\\Data_in_the_wild_exam\\data\\stage\\pytrends\\normalized_results_2023\\normalized_results_2023.csv\n"
     ]
    }
   ],
   "source": [
    "csv_file_path = r\"C:\\School\\Semester_1\\Data_Wrangling\\Data_in_the_wild_exam\\data\\raw\\pytrends\\raw_results_2023\"\n",
    "output_csv_path = r\"C:\\School\\Semester_1\\Data_Wrangling\\Data_in_the_wild_exam\\data\\stage\\pytrends\\normalized_results_2023\\normalized_results_2023.csv\"\n",
    "normalize_time_series(csv_file_path, output_csv_path)"
   ]
  },
  {
   "cell_type": "code",
   "execution_count": 46,
   "metadata": {},
   "outputs": [
    {
     "name": "stdout",
     "output_type": "stream",
     "text": [
      "date\n"
     ]
    }
   ],
   "source": [
    "str = \"date.1\"\n",
    "col_name = re.sub(r'\\.(\\d+)$|\\.(\\d+)\\b', '', str)\n",
    "print(col_name)"
   ]
  }
 ],
 "metadata": {
  "kernelspec": {
   "display_name": "Python 3",
   "language": "python",
   "name": "python3"
  },
  "language_info": {
   "codemirror_mode": {
    "name": "ipython",
    "version": 3
   },
   "file_extension": ".py",
   "mimetype": "text/x-python",
   "name": "python",
   "nbconvert_exporter": "python",
   "pygments_lexer": "ipython3",
   "version": "3.9.6"
  }
 },
 "nbformat": 4,
 "nbformat_minor": 2
}
