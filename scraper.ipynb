{
 "cells": [
  {
   "cell_type": "code",
   "execution_count": 73,
   "metadata": {},
   "outputs": [],
   "source": [
    "from time import sleep\n",
    "from random import randint\n",
    "\n",
    "# Please import necessary packages\n",
    "import numpy as np\n",
    "import pandas as pd\n",
    "from time import sleep\n",
    "import newspaper\n",
    "from newspaper import Article\n",
    "# from google.cloud import bigquery\n",
    "\n",
    "import nltk\n",
    "from nltk.tokenize import word_tokenize\n",
    "from nltk.corpus import stopwords\n",
    "from collections import Counter\n",
    "from nltk import FreqDist\n",
    "from nltk import bigrams\n",
    "from nltk.stem import SnowballStemmer\n",
    "import itertools\n",
    "import collections\n",
    "\n",
    "from bs4 import BeautifulSoup\n",
    "\n"
   ]
  },
  {
   "cell_type": "code",
   "execution_count": 56,
   "metadata": {},
   "outputs": [
    {
     "name": "stdout",
     "output_type": "stream",
     "text": [
      "105\n"
     ]
    }
   ],
   "source": [
    "url = \"http://web.archive.org/web/20221112121743/http://news.sky.com/\"\n",
    "# url = \"https://news.sky.com/\"\n",
    "skyNews = newspaper.build(url, memoize_articles=False, language='en')\n",
    "\n",
    "print(skyNews.size())"
   ]
  },
  {
   "cell_type": "code",
   "execution_count": 57,
   "metadata": {},
   "outputs": [
    {
     "name": "stdout",
     "output_type": "stream",
     "text": [
      "0 http://web.archive.org/web/20221112121743/http://news.sky.com/story/ukraine-war-latest-putin-kherson-retreat-war-live-12541713\n",
      "1 http://web.archive.org/web/20221112121743/http://news.sky.com/video/ukraine-war-ukrainians-celebrate-kherson-liberation-12745185\n",
      "2 http://web.archive.org/web/20221112121743/http://news.sky.com/story/zelenskyy-praises-khersons-resilience-but-warns-russian-soldiers-theres-no-point-in-hiding-well-find-you-12745077\n",
      "3 http://web.archive.org/web/20221112121743/http://news.sky.com/story/egypt-19-killed-and-six-injured-as-bus-crashes-into-canal-12745234\n",
      "4 http://web.archive.org/web/20221112121743/http://news.sky.com/story/democrat-mark-kelly-claims-victory-in-arizona-senate-race-with-overall-control-still-in-the-balance-12745083\n",
      "5 http://web.archive.org/web/20221112121743/http://news.sky.com/story/sorry-doesnt-cut-it-campmates-grill-hancock-over-covid-12745025\n",
      "6 http://web.archive.org/web/20221112121743/http://news.sky.com/story/angela-rayner-borrowed-5-600-for-cosmetic-surgery-after-shedding-baby-weight-12745228\n",
      "7 http://web.archive.org/web/20221112121743/http://news.sky.com/story/we-are-worthy-people-albanians-smuggled-into-uk-say-they-are-excited-for-the-future-12744871\n",
      "8 http://web.archive.org/web/20221112121743/http://news.sky.com/story/why-are-humans-obsessed-with-true-crime-and-what-is-behind-our-appetite-for-the-unsavoury-12737390\n",
      "9 http://web.archive.org/web/20221112121743/http://news.sky.com/story/rugby-world-cup-final-heartbreak-for-england-as-red-roses-lose-to-new-zealand-12745111\n"
     ]
    }
   ],
   "source": [
    "j = 0\n",
    "for article in skyNews.articles[:10]:\n",
    "    print(j, article.url)\n",
    "    j += 1"
   ]
  },
  {
   "cell_type": "code",
   "execution_count": 77,
   "metadata": {},
   "outputs": [
    {
     "name": "stdout",
     "output_type": "stream",
     "text": [
      "<a class=\"sdc-article-tags__link\" href=\"/web/20221112122206/https://news.sky.com/topic/live-7029\">LIVE</a>\n",
      "<a class=\"sdc-article-tags__link\" href=\"/web/20221112103517/https://news.sky.com/topic/ukraine-6556\">Ukraine</a>\n",
      "<a class=\"sdc-article-tags__link\" href=\"/web/20221112105422/https://news.sky.com/topic/ukraine-6556\">Ukraine</a>\n",
      "<a class=\"sdc-article-tags__link\" href=\"/web/20221112121449/https://news.sky.com/topic/egypt-5777\">Egypt</a>\n",
      "<a class=\"sdc-article-tags__link\" href=\"/web/20221112102333/https://news.sky.com/topic/arizona-5715\">Arizona</a>\n",
      "<a class=\"sdc-article-tags__link\" href=\"/web/20221112102327/https://news.sky.com/topic/im-a-celebrity-8433\">I'm A Celebrity</a>\n",
      "<a class=\"sdc-article-tags__link\" href=\"/web/20221112121910/https://news.sky.com/topic/angela-rayner-9774\">Angela Rayner</a>\n",
      "<a class=\"sdc-article-tags__link\" href=\"/web/20221112184726/https://news.sky.com/topic/migrant-crisis-5820\">Migrant Crisis</a>\n",
      "<a class=\"sdc-article-tags__link\" href=\"/web/20221112114752/https://news.sky.com/topic/netflix-6931\">Netflix</a>\n",
      "None\n"
     ]
    }
   ],
   "source": [
    "for article in skyNews.articles[:10]:\n",
    "    article.download()\n",
    "\n",
    "    soup = BeautifulSoup(article.html, 'html.parser')\n",
    "    date = soup.find(attrs={\"class\": \"sdc-article-date__date-time\"})\n",
    "    keywords = soup.find(attrs={\"class\": \"sdc-article-tags__link\"})\n",
    "    print(keywords)\n",
    "\n",
    "    article.parse()\n",
    "\n",
    "    article_meta_data = article.meta_data\n",
    "    title = article.title\n",
    "    \n",
    "\n",
    "\n",
    "    article_description = \"\".join(\n",
    "        {value for (key, value) in article_meta_data.items() if key == \"description\"}\n",
    "    )\n",
    "\n",
    "    article_keywords = {\n",
    "        value for (key, value) in article_meta_data.items() if key == \"keywords\"\n",
    "    }\n",
    "\n",
    "    sleep(randint(2, 5))\n"
   ]
  }
 ],
 "metadata": {
  "kernelspec": {
   "display_name": ".venv",
   "language": "python",
   "name": "python3"
  },
  "language_info": {
   "codemirror_mode": {
    "name": "ipython",
    "version": 3
   },
   "file_extension": ".py",
   "mimetype": "text/x-python",
   "name": "python",
   "nbconvert_exporter": "python",
   "pygments_lexer": "ipython3",
   "version": "3.11.5"
  }
 },
 "nbformat": 4,
 "nbformat_minor": 2
}
