{
 "cells": [
  {
   "cell_type": "code",
   "execution_count": 92,
   "metadata": {},
   "outputs": [],
   "source": [
    "# TODO: remove unused imports\n",
    "\n",
    "from time import sleep\n",
    "from random import randint\n",
    "\n",
    "# Please import necessary packages\n",
    "import numpy as np\n",
    "import pandas as pd\n",
    "from time import sleep\n",
    "import newspaper\n",
    "from newspaper import Article\n",
    "# from google.cloud import bigquery\n",
    "\n",
    "import nltk\n",
    "from nltk.tokenize import word_tokenize\n",
    "from nltk.corpus import stopwords\n",
    "from collections import Counter\n",
    "from nltk import FreqDist\n",
    "from nltk import bigrams\n",
    "from nltk.stem import SnowballStemmer\n",
    "import itertools\n",
    "import collections\n",
    "\n",
    "from bs4 import BeautifulSoup\n",
    "\n"
   ]
  },
  {
   "cell_type": "code",
   "execution_count": 96,
   "metadata": {},
   "outputs": [
    {
     "name": "stdout",
     "output_type": "stream",
     "text": [
      "103\n"
     ]
    }
   ],
   "source": [
    "# url = \"http://web.archive.org/web/20221112121743/http://news.sky.com/\"\n",
    "url = \"http://web.archive.org/web/20220101230822/https://news.sky.com/\"\n",
    "# url = \"https://news.sky.com/\"\n",
    "skyNews = newspaper.build(url, memoize_articles=False, language='en')\n",
    "\n",
    "print(skyNews.size())"
   ]
  },
  {
   "cell_type": "code",
   "execution_count": 97,
   "metadata": {},
   "outputs": [
    {
     "name": "stdout",
     "output_type": "stream",
     "text": [
      "0 http://web.archive.org/web/20220101230822/https://news.sky.com/story/covid-19-contingency-plans-drawn-up-over-fears-a-quarter-of-public-sector-workers-could-be-absent-due-to-omicron-12507186\n",
      "1 http://web.archive.org/web/20220101230822/https://news.sky.com/story/covid-19-england-reports-162-572-new-cases-and-154-further-coronavirus-related-deaths-daily-figures-show-12507174\n",
      "2 http://web.archive.org/web/20220101230822/https://news.sky.com/story/covid-19-nhs-leaders-warn-of-intensifying-health-emergency-as-coronavirus-hospital-admissions-rise-12507204\n",
      "3 http://web.archive.org/web/20220101230822/https://news.sky.com/story/uk-weather-latest-britain-could-see-warmest-new-years-day-ever-after-record-breaking-new-years-eve-12507041\n",
      "4 http://web.archive.org/web/20220101230822/https://news.sky.com/story/colorado-hit-by-snow-after-wildfire-destroys-nearly-1-000-homes-12507292\n",
      "5 http://web.archive.org/web/20220101230822/https://news.sky.com/story/croydon-stabbing-boy-15-who-was-killed-in-south-london-is-named-as-zaian-aimable-lina-12507211\n",
      "6 http://web.archive.org/web/20220101230822/https://news.sky.com/story/sundays-national-newspaper-front-pages-12427754\n",
      "7 http://web.archive.org/web/20220101230822/https://news.sky.com/story/india-and-pakistan-exchange-lists-of-prisoners-and-nuclear-assets-under-decades-old-agreement-12507359\n",
      "8 http://web.archive.org/web/20220101230822/https://news.sky.com/story/covid-news-latest-record-breaking-omicron-wave-to-test-the-limits-of-nhs-12507015\n",
      "9 http://web.archive.org/web/20220101230822/https://news.sky.com/story/nhs-likely-to-lose-nearly-half-of-dentists-after-pressure-increased-to-catch-up-on-backlogs-profession-warns-12507216\n"
     ]
    }
   ],
   "source": [
    "j = 0\n",
    "for article in skyNews.articles[:10]:\n",
    "    print(j, article.url)\n",
    "    j += 1"
   ]
  },
  {
   "cell_type": "code",
   "execution_count": 107,
   "metadata": {},
   "outputs": [
    {
     "name": "stdout",
     "output_type": "stream",
     "text": [
      "0\n",
      "1\n",
      "2\n",
      "                                               Title  \\\n",
      "0  COVID-19: Government advisers recommend jab fo...   \n",
      "1  COVID-19 and Omicron rise: How are countries a...   \n",
      "2  Omicron: What do COVID hospitalisation figures...   \n",
      "\n",
      "                                     Date  \\\n",
      "0   [Thursday 23 December 2021 07:53, UK]   \n",
      "1  [Wednesday 22 December 2021 16:01, UK]   \n",
      "2  [Wednesday 22 December 2021 00:21, UK]   \n",
      "\n",
      "                                            Keywords  \\\n",
      "0  [COVID-19, Coronavirus, Omicron, Vaccination, ...   \n",
      "1  [COVID, COVID-19, Coronavirus, Finland, France...   \n",
      "2            [COVID-19, Data and Forensics, Omicron]   \n",
      "\n",
      "                          Authors  \\\n",
      "0                              []   \n",
      "1  [Amar Mehta, @Amarjournalist_]   \n",
      "2                              []   \n",
      "\n",
      "                                                 Url  \n",
      "0  http://web.archive.org/web/20220101230822/http...  \n",
      "1  http://web.archive.org/web/20220101230822/http...  \n",
      "2  http://web.archive.org/web/20220101230822/http...  \n"
     ]
    }
   ],
   "source": [
    "# TODO: Fix error that occurs sometimes\n",
    "# TODO: Rewrite code below \n",
    "\n",
    "scrapedArticles = []\n",
    "counter = 0\n",
    "for article in skyNews.articles[20:23]:\n",
    "    try\n",
    "        print(counter)\n",
    "        counter += 1\n",
    "        url = article.url\n",
    "\n",
    "        article.download()\n",
    "\n",
    "        soup = BeautifulSoup(article.html, 'html.parser')\n",
    "        date = soup.find(attrs={\"class\": \"sdc-article-date__date-time\"})\n",
    "        keywords = soup.find_all(attrs={\"class\": \"sdc-article-tags__link\"})\n",
    "        authors = soup.find_all(attrs={\"class\": \"sdc-article-author__link\"})\n",
    "        \n",
    "        article.parse()\n",
    "\n",
    "\n",
    "        article_meta_data = article.meta_data\n",
    "        title = article.title\n",
    "        \n",
    "\n",
    "        cleanKeywords = []\n",
    "        if keywords:\n",
    "            for keyword in keywords:\n",
    "                cleanKeywords.append(keyword.string)\n",
    "\n",
    "        cleanAuthors = []\n",
    "        if authors:\n",
    "            for author in authors:\n",
    "                cleanAuthors.append(author.string)\n",
    "\n",
    "        scrapedArticles.append([title, date, cleanKeywords, cleanAuthors, url])\n",
    "        sleep(randint(4, 7))\n",
    "    except:\n",
    "        print(\"Error:\", counter)\n",
    "        continue\n",
    "\n",
    "df = pd.DataFrame(scrapedArticles, columns=[\"Title\", \"Date\", \"Keywords\", \"Authors\", \"Url\"])\n",
    "print(df)\n"
   ]
  },
  {
   "cell_type": "code",
   "execution_count": 115,
   "metadata": {},
   "outputs": [
    {
     "name": "stderr",
     "output_type": "stream",
     "text": [
      "[nltk_data] Downloading package punkt to\n",
      "[nltk_data]     /Users/niclasclassen/nltk_data...\n",
      "[nltk_data]   Unzipping tokenizers/punkt.zip.\n"
     ]
    },
    {
     "data": {
      "text/plain": [
       "True"
      ]
     },
     "execution_count": 115,
     "metadata": {},
     "output_type": "execute_result"
    }
   ],
   "source": [
    "import nltk\n",
    "nltk.download('punkt')"
   ]
  },
  {
   "cell_type": "code",
   "execution_count": 125,
   "metadata": {},
   "outputs": [
    {
     "name": "stdout",
     "output_type": "stream",
     "text": [
      "COVID-19: What will the pandemic mean for the UK in 2022? Experts give their predictions\n",
      "['mean', '2022', 'covid19', 'omicron', 'pandemic', 'restrictions', 'going', 'uk', 'think', 'vaccines', 'covid', 'experts', 'need', 'support', 'predictions', 'likely']\n",
      "http://web.archive.org/web/20220101230822/https://news.sky.com/story/omicron-what-do-covid-hospitalisation-figures-in-london-tell-us-about-how-severe-the-new-variant-is-12501451\n"
     ]
    }
   ],
   "source": [
    "# nlp demo\n",
    "a = skyNews.articles[10]\n",
    "a.download()\n",
    "a.parse()\n",
    "\n",
    "a.nlp()\n",
    "print(a.title)\n",
    "print(a.keywords)\n",
    "print(article.url)"
   ]
  },
  {
   "cell_type": "code",
   "execution_count": 105,
   "metadata": {},
   "outputs": [],
   "source": [
    "df.to_csv('test.csv', sep=';')  "
   ]
  }
 ],
 "metadata": {
  "kernelspec": {
   "display_name": ".venv",
   "language": "python",
   "name": "python3"
  },
  "language_info": {
   "codemirror_mode": {
    "name": "ipython",
    "version": 3
   },
   "file_extension": ".py",
   "mimetype": "text/x-python",
   "name": "python",
   "nbconvert_exporter": "python",
   "pygments_lexer": "ipython3",
   "version": "3.11.5"
  }
 },
 "nbformat": 4,
 "nbformat_minor": 2
}
