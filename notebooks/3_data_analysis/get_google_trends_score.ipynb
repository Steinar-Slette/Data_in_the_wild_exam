{
 "cells": [
  {
   "cell_type": "markdown",
   "metadata": {},
   "source": [
    "# Get the score of the google trends relative popularity per keyword for each article"
   ]
  },
  {
   "cell_type": "markdown",
   "metadata": {},
   "source": [
    "### Import required libraries"
   ]
  },
  {
   "cell_type": "code",
   "execution_count": 3,
   "metadata": {},
   "outputs": [],
   "source": [
    "import pandas as pd\n",
    "import ast"
   ]
  },
  {
   "cell_type": "markdown",
   "metadata": {},
   "source": [
    "### Get the score and average score of the google trends relative popularity per keyword for each article"
   ]
  },
  {
   "cell_type": "code",
   "execution_count": 3,
   "metadata": {},
   "outputs": [
    {
     "name": "stderr",
     "output_type": "stream",
     "text": [
      "/var/folders/sh/fjb1r_5j6gxcy4lzfcc4_4zr0000gn/T/ipykernel_36909/2326271732.py:25: FutureWarning: Setting an item of incompatible dtype is deprecated and will raise in a future error of pandas. Value '68.5' has dtype incompatible with int64, please explicitly cast to a compatible dtype first.\n",
      "  df_articles.at[i, 'Score'] += df_normalized_results.at[index, row['Date']]\n"
     ]
    }
   ],
   "source": [
    "# Define path for input and output files\n",
    "articles_path = \"../../data/interim/annotated_articles/automated_combined/by_year/2022_articles_automated_annotated.csv\" # can be modified\n",
    "normalized_results_path = \"../../data/processed/google_trends/2022_normalized_popularity.csv\" # can be modified\n",
    "output_path = \"2022_articles_score.csv\" # can be modified\n",
    "\n",
    "# Load the CSV files\n",
    "df_normalized_results = pd.read_csv(normalized_results_path, sep=';')\n",
    "df_articles = pd.read_csv(articles_path, sep=';')\n",
    "\n",
    "# Convert 'Tags' column to lowercase and cast it to an array\n",
    "df_articles['Tags'] = df_articles['Tags'].str.lower().apply(ast.literal_eval)\n",
    "\n",
    "# Initialize a new column 'Score' with zeros\n",
    "df_articles['Score'] = 0\n",
    "\n",
    "# Iterate over the rows in df_articles\n",
    "for i, row in df_articles.iterrows():\n",
    "    # For each tag, look up the corresponding value in df_normalized_results for the specific date\n",
    "    for tag in row['Tags']:\n",
    "        if tag in df_normalized_results['Keywords'].values:\n",
    "            # Get the index of the tag in df_normalized_results\n",
    "            index = df_normalized_results[df_normalized_results['Keywords'] == tag].index[0]\n",
    "\n",
    "            # Use the index to get the value\n",
    "            df_articles.at[i, 'Score'] += df_normalized_results.at[index, row['Date']]\n",
    "\n",
    "# Create a new column 'Average Score'\n",
    "df_articles['Average Score'] = df_articles['Score'] / df_articles['Tags'].apply(len)\n",
    "\n",
    "# Save the DataFrame to a CSV file\n",
    "df_articles.to_csv(output_path, sep=';', index=False)"
   ]
  }
 ],
 "metadata": {
  "kernelspec": {
   "display_name": ".venv",
   "language": "python",
   "name": "python3"
  },
  "language_info": {
   "codemirror_mode": {
    "name": "ipython",
    "version": 3
   },
   "file_extension": ".py",
   "mimetype": "text/x-python",
   "name": "python",
   "nbconvert_exporter": "python",
   "pygments_lexer": "ipython3",
   "version": "3.11.5"
  }
 },
 "nbformat": 4,
 "nbformat_minor": 2
}
