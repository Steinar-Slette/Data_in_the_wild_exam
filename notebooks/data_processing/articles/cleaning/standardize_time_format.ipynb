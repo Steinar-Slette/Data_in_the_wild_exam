{
 "cells": [
  {
   "cell_type": "code",
   "execution_count": 1,
   "metadata": {},
   "outputs": [],
   "source": [
    "import pandas as pd"
   ]
  },
  {
   "cell_type": "code",
   "execution_count": 2,
   "metadata": {},
   "outputs": [],
   "source": [
    "\n",
    "def convert_date(date_str):\n",
    "    date_str = date_str.rsplit(',', 1)[0]  # Remove timezone\n",
    "    date = pd.to_datetime(date_str, format='%A %d %B %Y %H:%M', errors='coerce')\n",
    "    return date.strftime('%Y-%m-%d')\n",
    "\n"
   ]
  },
  {
   "cell_type": "code",
   "execution_count": 15,
   "metadata": {},
   "outputs": [],
   "source": [
    "\n",
    "df = pd.read_csv(\"../../../data/interim/annotated_articles/automated_raw/guardian/2023_guardian_automated_annotated.csv\", sep=';')\n",
    "df.dropna(subset=['Date'], inplace=True)\n",
    "\n",
    "df['Date'] = df['Date'].apply(convert_date)\n",
    "df.to_csv(\"2023_skynews_automated_annotated_cleaned.csv\", sep=';')\n"
   ]
  },
  {
   "cell_type": "markdown",
   "metadata": {},
   "source": [
    "## Guardian "
   ]
  },
  {
   "cell_type": "code",
   "execution_count": 21,
   "metadata": {},
   "outputs": [],
   "source": [
    "\n",
    "# Load the data\n",
    "df = pd.read_csv(\"../../../data/interim/annotated_articles/automated_raw/guardian/2023_guardian_automated_annotated_no_tags.csv\", sep=';')\n",
    "\n",
    "# Convert the 'Date' column to datetime format\n",
    "df['Date'] = pd.to_datetime(df['Date'])\n",
    "\n",
    "# Get the date part\n",
    "df['Date'] = df['Date'].dt.date\n",
    "\n",
    "df.to_csv(\"2023_guardian_automated_annotated_no_tags_cleaned.csv\", sep=';')"
   ]
  },
  {
   "cell_type": "markdown",
   "metadata": {},
   "source": [
    "## Filter Date"
   ]
  },
  {
   "cell_type": "code",
   "execution_count": 16,
   "metadata": {},
   "outputs": [
    {
     "name": "stdout",
     "output_type": "stream",
     "text": [
      "(1908, 7)\n"
     ]
    }
   ],
   "source": [
    "# Remove articles with old publishing date\n",
    "df['Date'] = pd.to_datetime(df['Date'])\n",
    "df = df[df['Date'].dt.year == 2023]\n",
    "df = df[df['Date'].dt.month == 1]\n",
    "\n",
    "df.to_csv(\"2023_skynews_automated_annotated_cleaned.csv\", sep=';')\n",
    "\n",
    "print(df.shape)"
   ]
  }
 ],
 "metadata": {
  "kernelspec": {
   "display_name": ".venv",
   "language": "python",
   "name": "python3"
  },
  "language_info": {
   "codemirror_mode": {
    "name": "ipython",
    "version": 3
   },
   "file_extension": ".py",
   "mimetype": "text/x-python",
   "name": "python",
   "nbconvert_exporter": "python",
   "pygments_lexer": "ipython3",
   "version": "3.11.5"
  }
 },
 "nbformat": 4,
 "nbformat_minor": 2
}
