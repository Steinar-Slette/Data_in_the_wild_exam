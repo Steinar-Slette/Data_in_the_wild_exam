{
 "cells": [
  {
   "cell_type": "markdown",
   "metadata": {},
   "source": [
    "# Convert the format of the text column for articles by skynews"
   ]
  },
  {
   "cell_type": "markdown",
   "metadata": {},
   "source": [
    "### Import required libraries"
   ]
  },
  {
   "cell_type": "code",
   "execution_count": 2,
   "metadata": {},
   "outputs": [],
   "source": [
    "import pandas as pd\n",
    "import re"
   ]
  },
  {
   "cell_type": "markdown",
   "metadata": {},
   "source": [
    "### Remove empty line breaks the word 'Advertisement' from the text which is displayed as placeholder"
   ]
  },
  {
   "cell_type": "code",
   "execution_count": 4,
   "metadata": {},
   "outputs": [],
   "source": [
    "# Define input and output paths\n",
    "input_path = \"../../../../data/processed/articles/2023_articles_processed.csv\" # can be modified\n",
    "output_path = \"2023_articles_cleaned.csv\" # can be modified\n",
    "\n",
    "# Load the CSV file\n",
    "df = pd.read_csv(input_path, sep=\";\")\n",
    "\n",
    "# Define a function to remove lines containing only \"Advertisement\"\n",
    "def clean_data(row):\n",
    "    if row['Source'] == 'skynews':\n",
    "        text = re.sub('\\n+', '\\n', row['Text'])\n",
    "        text = re.sub('^\\s*Advertisement\\s*\\n', '', text, flags=re.MULTILINE)\n",
    "        return text\n",
    "    else:\n",
    "        return row['Text']\n",
    "\n",
    "# Apply the function to the DataFrame\n",
    "df['Text'] = df.apply(clean_data, axis=1)\n",
    "\n",
    "# Save the DataFrame to a CSV file\n",
    "df.to_csv(output_path, sep=\";\", index=False)"
   ]
  }
 ],
 "metadata": {
  "kernelspec": {
   "display_name": ".venv",
   "language": "python",
   "name": "python3"
  },
  "language_info": {
   "codemirror_mode": {
    "name": "ipython",
    "version": 3
   },
   "file_extension": ".py",
   "mimetype": "text/x-python",
   "name": "python",
   "nbconvert_exporter": "python",
   "pygments_lexer": "ipython3",
   "version": "3.11.5"
  }
 },
 "nbformat": 4,
 "nbformat_minor": 2
}
