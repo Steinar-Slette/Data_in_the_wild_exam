{
 "cells": [
  {
   "cell_type": "code",
   "execution_count": 1,
   "metadata": {},
   "outputs": [],
   "source": [
    "import pandas as pd"
   ]
  },
  {
   "cell_type": "code",
   "execution_count": 11,
   "metadata": {},
   "outputs": [],
   "source": [
    "skynews_2022 = pd.read_csv(\"../../../../data/raw/articles/skynews/2022_articles_skynews_raw.csv\", delimiter = \";\")\n",
    "skynews_2023 = pd.read_csv(\"../../../../data/raw/articles/skynews/2023_articles_skynews_raw.csv\", delimiter = \";\")\n",
    "\n",
    "guardian_2022 = pd.read_csv(\"../../../../data/raw/articles/guardian/2022_articles_guardian_raw.csv\", delimiter = \";\")\n",
    "guardian_2023 = pd.read_csv(\"../../../../data/raw/articles/guardian/2023_articles_guardian_raw.csv\", delimiter = \";\")"
   ]
  },
  {
   "cell_type": "code",
   "execution_count": 14,
   "metadata": {},
   "outputs": [],
   "source": [
    "# Merge files for 2022\n",
    "merged_2022 = pd.concat([skynews_2022, guardian_2022])\n",
    "\n",
    "# Merge files for 2023\n",
    "merged_2023 = pd.concat([skynews_2023, guardian_2023])\n",
    "\n",
    "# Write merged DataFrames to new CSV files \n",
    "merged_2022.to_csv(\"2022_articles_processed.csv\", index=False)\n",
    "merged_2023.to_csv(\"2023_articles_processed.csv\", index=False)"
   ]
  }
 ],
 "metadata": {
  "kernelspec": {
   "display_name": "base",
   "language": "python",
   "name": "python3"
  },
  "language_info": {
   "codemirror_mode": {
    "name": "ipython",
    "version": 3
   },
   "file_extension": ".py",
   "mimetype": "text/x-python",
   "name": "python",
   "nbconvert_exporter": "python",
   "pygments_lexer": "ipython3",
   "version": "3.11.5"
  }
 },
 "nbformat": 4,
 "nbformat_minor": 2
}
