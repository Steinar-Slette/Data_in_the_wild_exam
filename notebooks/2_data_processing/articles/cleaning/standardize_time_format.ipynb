{
 "cells": [
  {
   "cell_type": "markdown",
   "metadata": {},
   "source": [
    "# Standardize and filter date of articles"
   ]
  },
  {
   "cell_type": "markdown",
   "metadata": {},
   "source": [
    "### Import required libraries"
   ]
  },
  {
   "cell_type": "code",
   "execution_count": 2,
   "metadata": {},
   "outputs": [],
   "source": [
    "import pandas as pd"
   ]
  },
  {
   "cell_type": "markdown",
   "metadata": {},
   "source": [
    "### Skynews\n",
    "Convert the format of the date and filter the date of articles to be between our time frame of interest."
   ]
  },
  {
   "cell_type": "code",
   "execution_count": 3,
   "metadata": {},
   "outputs": [],
   "source": [
    "def convert_date(date_str):\n",
    "    # Remove the timezone from the date string\n",
    "    date_str = date_str.rsplit(',', 1)[0]  \n",
    "    \n",
    "    # Convert the date string to a datetime object\n",
    "    date = pd.to_datetime(date_str, format='%A %d %B %Y %H:%M', errors='coerce')\n",
    "    \n",
    "    # Format the datetime object as a string in the format 'YYYY-MM-DD'\n",
    "    return date.strftime('%Y-%m-%d')"
   ]
  },
  {
   "cell_type": "code",
   "execution_count": 9,
   "metadata": {},
   "outputs": [
    {
     "name": "stdout",
     "output_type": "stream",
     "text": [
      "All articles 3112\n",
      "Articles with relevant publishing date 2505\n"
     ]
    }
   ],
   "source": [
    "# Define input and output paths\n",
    "input_path = \"../../../../data/raw/articles/skynews/2023_articles_skynews_raw.csv\" # can be modified\n",
    "output_path = \"2023_articles_skynews_raw_date_filtered.csv\" # can be modified\n",
    "\n",
    "year_of_interest = 2023 # can be modified\n",
    "month_of_interest = 1 # can be modified\n",
    "\n",
    "# Load the data\n",
    "df = pd.read_csv(input_path, sep=';')\n",
    "\n",
    "print(\"All articles:\", df.shape[0])\n",
    "# Clean the data\n",
    "df.dropna(subset=['Date'], inplace=True)\n",
    "df['Date'] = df['Date'].apply(convert_date)\n",
    "df['Date'] = pd.to_datetime(df['Date'])\n",
    "\n",
    "# Filter the data\n",
    "df = df[df['Date'].dt.year == year_of_interest]\n",
    "df = df[df['Date'].dt.month == month_of_interest]\n",
    "print(\"Articles with relevant publishing date:\", df.shape[0])\n",
    "\n",
    "# Save the data\n",
    "df.to_csv(output_path, sep=';')"
   ]
  },
  {
   "cell_type": "markdown",
   "metadata": {},
   "source": [
    "### Guardian\n",
    "We only have articles published in between our time frame of interest. So we just convert the format of the date."
   ]
  },
  {
   "cell_type": "code",
   "execution_count": 21,
   "metadata": {},
   "outputs": [],
   "source": [
    "# Define input and output paths\n",
    "input_path = \"../../../../data/raw/articles/guardian/2023_articles_guardian_raw.csv\" # can be modified\n",
    "output_path = \"2023_articles_guardian_raw_date_filtered.csv\" # can be modified\n",
    "\n",
    "# Load the data\n",
    "df = pd.read_csv(input_path, sep=';')\n",
    "\n",
    "# Convert the 'Date' column to datetime format\n",
    "df['Date'] = pd.to_datetime(df['Date'])\n",
    "\n",
    "# Get the date part\n",
    "df['Date'] = df['Date'].dt.date\n",
    "\n",
    "df.to_csv(output_path, sep=';')"
   ]
  }
 ],
 "metadata": {
  "kernelspec": {
   "display_name": ".venv",
   "language": "python",
   "name": "python3"
  },
  "language_info": {
   "codemirror_mode": {
    "name": "ipython",
    "version": 3
   },
   "file_extension": ".py",
   "mimetype": "text/x-python",
   "name": "python",
   "nbconvert_exporter": "python",
   "pygments_lexer": "ipython3",
   "version": "3.11.5"
  }
 },
 "nbformat": 4,
 "nbformat_minor": 2
}
