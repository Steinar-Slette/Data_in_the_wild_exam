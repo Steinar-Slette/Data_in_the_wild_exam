{
 "cells": [
  {
   "cell_type": "markdown",
   "metadata": {},
   "source": [
    "# Add an ID to our final data set"
   ]
  },
  {
   "cell_type": "markdown",
   "metadata": {},
   "source": [
    "### Import required libraries"
   ]
  },
  {
   "cell_type": "code",
   "execution_count": 1,
   "metadata": {},
   "outputs": [],
   "source": [
    "import pandas as pd"
   ]
  },
  {
   "cell_type": "markdown",
   "metadata": {},
   "source": [
    "### Add an ID to our final data set with the year as suffix"
   ]
  },
  {
   "cell_type": "code",
   "execution_count": 8,
   "metadata": {},
   "outputs": [],
   "source": [
    "# Define input and output paths\n",
    "input_path = \"../../../../data/processed/articles/2023_articles_processed.csv\" # can be modified\n",
    "output_path = \"2023_articles_processed_id.csv\" # can be modified\n",
    "\n",
    "id_suffix = \"_2203\" # can be modified\n",
    "\n",
    "# Load the CSV file\n",
    "df = pd.read_csv(input_path, sep=';')\n",
    "\n",
    "# Add an 'ID' column with a unique ID for each row\n",
    "df['ID'] = range(1, len(df) + 1)\n",
    "\n",
    "# Convert 'ID' to string and add '2202' as a suffix\n",
    "df['ID'] = df['ID'].astype(str) + id_suffix\n",
    "\n",
    "# Make 'ID' the first column\n",
    "df = df[['ID'] + [col for col in df.columns if col != 'ID']]\n",
    "\n",
    "# Save the DataFrame back to a CSV file\n",
    "df.to_csv(output_path, sep=';', index=False)"
   ]
  }
 ],
 "metadata": {
  "kernelspec": {
   "display_name": ".venv",
   "language": "python",
   "name": "python3"
  },
  "language_info": {
   "codemirror_mode": {
    "name": "ipython",
    "version": 3
   },
   "file_extension": ".py",
   "mimetype": "text/x-python",
   "name": "python",
   "nbconvert_exporter": "python",
   "pygments_lexer": "ipython3",
   "version": "3.11.5"
  }
 },
 "nbformat": 4,
 "nbformat_minor": 2
}
