{
 "cells": [
  {
   "cell_type": "markdown",
   "metadata": {},
   "source": [
    "## Standardize chatgpt annotation results  "
   ]
  },
  {
   "cell_type": "markdown",
   "metadata": {},
   "source": [
    "### Import required libraries"
   ]
  },
  {
   "cell_type": "code",
   "execution_count": 2,
   "metadata": {},
   "outputs": [],
   "source": [
    "import pandas as pd"
   ]
  },
  {
   "cell_type": "markdown",
   "metadata": {},
   "source": [
    "### Transform the chatgpt annotation results into a standardized format."
   ]
  },
  {
   "cell_type": "code",
   "execution_count": 3,
   "metadata": {},
   "outputs": [],
   "source": [
    "input_data_path = \"../../data/interim/annotated_articles/automated_combined/by_year/2023_articles_automated_annotated.csv\" # can be modified\n",
    "df = pd.read_csv(input_data_path, sep=';')\n",
    "\n",
    "# Define a dictionary to map category numbers to names\n",
    "category_dict = {\n",
    "    '1': 'politics',\n",
    "    '2': 'business and economy',\n",
    "    '3': 'environment',\n",
    "    '4': 'sports',\n",
    "    '5': 'entertainment and culture',\n",
    "    '6': 'science and technology',\n",
    "    '7': 'health'\n",
    "}\n",
    "\n",
    "# Replace category numbers with names\n",
    "for num, name in category_dict.items():\n",
    "    df.loc[df['Category'].str.contains(f'Category-{num}') | df['Category'].str.contains(num), 'Category'] = name\n",
    "\n",
    "# Save the results\n",
    "result_data_path = \"2023_articles_automated_annotated.csv\" # can be modified\n",
    "df.to_csv(result_data_path, index=False, sep=';')"
   ]
  }
 ],
 "metadata": {
  "kernelspec": {
   "display_name": ".venv",
   "language": "python",
   "name": "python3"
  },
  "language_info": {
   "codemirror_mode": {
    "name": "ipython",
    "version": 3
   },
   "file_extension": ".py",
   "mimetype": "text/x-python",
   "name": "python",
   "nbconvert_exporter": "python",
   "pygments_lexer": "ipython3",
   "version": "3.11.5"
  }
 },
 "nbformat": 4,
 "nbformat_minor": 2
}
