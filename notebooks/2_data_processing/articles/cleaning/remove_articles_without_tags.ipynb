{
 "cells": [
  {
   "cell_type": "markdown",
   "metadata": {},
   "source": [
    "# Remove articles without tags\n",
    "We do this because we want to calculate a score of the google trends results for each article by its tags.\n"
   ]
  },
  {
   "cell_type": "markdown",
   "metadata": {},
   "source": [
    "### Import required libraries"
   ]
  },
  {
   "cell_type": "code",
   "execution_count": 1,
   "metadata": {},
   "outputs": [],
   "source": [
    "import pandas as pd"
   ]
  },
  {
   "cell_type": "markdown",
   "metadata": {},
   "source": [
    "### Remove articles without tags"
   ]
  },
  {
   "cell_type": "code",
   "execution_count": 5,
   "metadata": {},
   "outputs": [
    {
     "name": "stdout",
     "output_type": "stream",
     "text": [
      "All articles: (7777, 8)\n",
      "Filtered articles: (7777, 8)\n"
     ]
    }
   ],
   "source": [
    "# Define input and output paths\n",
    "input_path = \"../../../../data/interim/annotated_articles/automated_combined/by_year/2022_articles_automated_annotated.csv\" # can be modified\n",
    "output_path = \"2022_articles_automated_annotated.csv\" # can be modified\n",
    "\n",
    "# Load the CSV file\n",
    "df = pd.read_csv(input_path, sep=';')\n",
    "\n",
    "print('All articles:', df.shape)\n",
    "\n",
    "# Remove rows where the 'Tags' column is NaN, equal to ['N/A'], or equal to []\n",
    "df = df[df['Tags'].notna() & (df['Tags'] != \"['N/A']\") & (df['Tags'] != '[]')]\n",
    "\n",
    "# Print the shape of the cleaned DataFrame\n",
    "print('Filtered articles:', df.shape)\n",
    "\n",
    "# Save the cleaned DataFrame to a CSV file\n",
    "df.to_csv(output_path, sep=';', index=False)"
   ]
  }
 ],
 "metadata": {
  "kernelspec": {
   "display_name": ".venv",
   "language": "python",
   "name": "python3"
  },
  "language_info": {
   "codemirror_mode": {
    "name": "ipython",
    "version": 3
   },
   "file_extension": ".py",
   "mimetype": "text/x-python",
   "name": "python",
   "nbconvert_exporter": "python",
   "pygments_lexer": "ipython3",
   "version": "3.11.5"
  }
 },
 "nbformat": 4,
 "nbformat_minor": 2
}
