{
 "cells": [
  {
   "cell_type": "markdown",
   "metadata": {},
   "source": [
    "# GPT Annotation (batch per request)"
   ]
  },
  {
   "cell_type": "markdown",
   "metadata": {},
   "source": [
    "### Import required libraries"
   ]
  },
  {
   "cell_type": "code",
   "execution_count": null,
   "metadata": {},
   "outputs": [
    {
     "data": {
      "text/plain": [
       "True"
      ]
     },
     "execution_count": 6,
     "metadata": {},
     "output_type": "execute_result"
    }
   ],
   "source": [
    "from openai import OpenAI\n",
    "import pandas as pd\n",
    "from dotenv import load_dotenv\n",
    "import os\n",
    "from time import sleep\n",
    "\n",
    "load_dotenv()"
   ]
  },
  {
   "cell_type": "markdown",
   "metadata": {},
   "source": [
    "## GPT Annotation"
   ]
  },
  {
   "cell_type": "markdown",
   "metadata": {},
   "source": [
    "### Set API key"
   ]
  },
  {
   "cell_type": "code",
   "execution_count": null,
   "metadata": {},
   "outputs": [],
   "source": [
    "client = OpenAI(api_key=os.getenv(\"OPENAI_API_KEY\"))"
   ]
  },
  {
   "cell_type": "markdown",
   "metadata": {},
   "source": [
    "#### Read input and define output location"
   ]
  },
  {
   "cell_type": "code",
   "execution_count": 12,
   "metadata": {},
   "outputs": [
    {
     "name": "stdout",
     "output_type": "stream",
     "text": [
      "(179, 10)\n"
     ]
    }
   ],
   "source": [
    "input_path = \".././../../../data/raw/articles/guardian/2022_articles_guardian_raw.csv\" # can be modified\n",
    "output_path = \"2022_articles_guardian_raw_annotated.csv\" # can be modified\n",
    "\n",
    "df = pd.read_csv(input_path, sep=';')"
   ]
  },
  {
   "cell_type": "markdown",
   "metadata": {},
   "source": [
    "### Function to run the annotation"
   ]
  },
  {
   "cell_type": "code",
   "execution_count": 3,
   "metadata": {},
   "outputs": [],
   "source": [
    "def get_res(batch):\n",
    "    # Define the system and user messages\n",
    "    system_message = \"You are an excellent annotator. You will be provided with a batch of items. Each item consists of a title and one or multiple tags that both belong to one news article. The items start with <itemStart> and end with <itemEnd>. Your task is to classify the topic of a news article by looking at its title and tags in either Category-1: politics, Category-2: business and economy, Category-3: environment, Category-4: sports, Category-5: entertainment and culture, Category-6: science and technology or Category-7: health. Return for each article only the number of the category in a python list where the result matches the order of the input.\"\n",
    "    user_message = f\"{batch}\"\n",
    "\n",
    "    # Send the messages to the GPT-3 model and get the response\n",
    "    response = client.chat.completions.create(\n",
    "        model=\"gpt-3.5-turbo\",\n",
    "        messages=[\n",
    "            {\"role\": \"system\", \"content\": system_message},\n",
    "            {\"role\": \"user\", \"content\": user_message}\n",
    "        ],\n",
    "        temperature=0,\n",
    "        max_tokens=1000\n",
    "    )\n",
    "\n",
    "    # Extract the categories from the response\n",
    "    categories = response.choices[0].message.content[1:-1].split(\",\")\n",
    "\n",
    "    return categories"
   ]
  },
  {
   "cell_type": "markdown",
   "metadata": {},
   "source": [
    "### Create batches and call function to run the annotation"
   ]
  },
  {
   "cell_type": "code",
   "execution_count": null,
   "metadata": {},
   "outputs": [],
   "source": [
    "batchSize = 10\n",
    "\n",
    "cat = {\n",
    "     1: \"politics\",\n",
    "     2: \"business and economy\",\n",
    "     3: \"environment\",\n",
    "     4: \"sports\",\n",
    "     5: \"entertainment and culture\",\n",
    "     6: \"science and technology\",\n",
    "     7: \"health\"\n",
    "    }\n",
    "\n",
    "counter = 0\n",
    "idx_lo = 0\n",
    "idx_hi = 0\n",
    "batch = \"\"\n",
    "for index, row in df.iterrows():\n",
    "    print(index)\n",
    "    if counter < batchSize:\n",
    "        title = row['Title']\n",
    "        tags = row['Tags'][1:-1]\n",
    "        counter += 1\n",
    "        batch += f\"<itemStart> ARTICLE-{counter}: Title: {title}; Tags: {tags} <itemEnd>\"\n",
    "    else:\n",
    "        categories = get_res(batch)\n",
    "        print(categories)\n",
    "        if len(categories) < 10:\n",
    "             break\n",
    "        for idx_category, category in enumerate(categories):\n",
    "            print(index + 1 - len(categories)+ idx_category, category)\n",
    "            df.loc[index - len(categories) + idx_category, ['Category']] = category.strip().replace(\",\", \"\")\n",
    "        sleep(3)\n",
    "        title = row['Title']\n",
    "        tags = row['Tags'][1:-1]\n",
    "        counter = 1\n",
    "        batch = f\"<itemStart> ARTICLE-{counter}: Title: '{title}'; Tags: {tags}] <itemEnd>\"\n",
    "\n",
    "if len(batch) > 0:\n",
    "    categories = get_res(batch)\n",
    "    for idx_category, category in enumerate(categories):\n",
    "            print(df.shape[0] - len(categories)+ idx_category, category)\n",
    "            df.loc[df.shape[0] - len(categories) + idx_category, ['Category']] = category.strip().replace(\",\", \"\")\n",
    "\n",
    "\n",
    "df.to_csv(output_path, sep=';')\n"
   ]
  }
 ],
 "metadata": {
  "kernelspec": {
   "display_name": ".venv",
   "language": "python",
   "name": "python3"
  },
  "language_info": {
   "codemirror_mode": {
    "name": "ipython",
    "version": 3
   },
   "file_extension": ".py",
   "mimetype": "text/x-python",
   "name": "python",
   "nbconvert_exporter": "python",
   "pygments_lexer": "ipython3",
   "version": "3.11.5"
  }
 },
 "nbformat": 4,
 "nbformat_minor": 2
}
