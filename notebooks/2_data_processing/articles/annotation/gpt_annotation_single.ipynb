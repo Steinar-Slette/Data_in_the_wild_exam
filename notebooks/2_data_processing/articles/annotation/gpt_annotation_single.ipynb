{
 "cells": [
  {
   "cell_type": "markdown",
   "metadata": {},
   "source": [
    "# GPT Annotation (single article per request)"
   ]
  },
  {
   "cell_type": "markdown",
   "metadata": {},
   "source": [
    "### Import required libraries"
   ]
  },
  {
   "cell_type": "code",
   "execution_count": 1,
   "metadata": {},
   "outputs": [
    {
     "data": {
      "text/plain": [
       "True"
      ]
     },
     "execution_count": 1,
     "metadata": {},
     "output_type": "execute_result"
    }
   ],
   "source": [
    "from openai import OpenAI\n",
    "import pandas as pd\n",
    "from dotenv import load_dotenv\n",
    "from time import sleep\n",
    "import os\n",
    "\n",
    "load_dotenv()"
   ]
  },
  {
   "cell_type": "markdown",
   "metadata": {},
   "source": [
    "## GPT Annotation"
   ]
  },
  {
   "cell_type": "markdown",
   "metadata": {},
   "source": [
    "### Set API key"
   ]
  },
  {
   "cell_type": "code",
   "execution_count": 5,
   "metadata": {},
   "outputs": [],
   "source": [
    "client = OpenAI(api_key=os.getenv(\"OPENAI_API_KEY\"))"
   ]
  },
  {
   "cell_type": "markdown",
   "metadata": {},
   "source": [
    "#### Read input and define output location"
   ]
  },
  {
   "cell_type": "code",
   "execution_count": 6,
   "metadata": {},
   "outputs": [],
   "source": [
    "input_path = \".././../../../data/raw/articles/guardian/2022_articles_guardian_raw.csv\" # can be modified\n",
    "output_path = \"2022_articles_guardian_raw_annotated.csv\" # can be modified\n",
    "\n",
    "df = pd.read_csv(input_path, sep=';')\n"
   ]
  },
  {
   "cell_type": "markdown",
   "metadata": {},
   "source": [
    "### Run the annotation"
   ]
  },
  {
   "cell_type": "code",
   "execution_count": null,
   "metadata": {},
   "outputs": [],
   "source": [
    "system_message = \"You are an excellent annotator. You will be provided with a title in between <titleStart> and <titleEnd> and one or multiple tags in between <tagStart> and <tagEnd>. Both the title and tags belong to a news article. Your task is to classify to which of the following categories the article most likely belongs to. However, you are only allowed to pick categories from the following list: 'Category-1: politics', 'Category-2: business and economy', 'Category-3: environment', 'Category-4: sports', 'Category-5: entertainment and culture', 'Category-6: science and technology' or 'Category-7: health'. Return the number of only one of the provided categories.\"\n",
    "\n",
    "for counter, (index, row) in enumerate(df.iterrows(), start=1):\n",
    "    print(counter)\n",
    "    title = row['Title']\n",
    "    tags = row['Tags'][1:-1]\n",
    "    user_message = f\"<titleStart> {title} <titleEnd>; <tagStart> {tags} <tagEnd>\"\n",
    "\n",
    "    response = client.chat.completions.create(\n",
    "        model=\"gpt-3.5-turbo\",\n",
    "        messages=[\n",
    "            {\"role\": \"system\", \"content\": system_message},\n",
    "            {\"role\": \"user\", \"content\": user_message}\n",
    "        ],\n",
    "        temperature=0,\n",
    "        max_tokens=256\n",
    "    )\n",
    "\n",
    "    category = response.choices[0].message.content\n",
    "    print(category)\n",
    "    \n",
    "    # Following timeout is only needed for the free tier (uncomment if needed)\n",
    "    # sleep(21)\n",
    "    df.loc[index, 'Category'] = category\n",
    "\n",
    "df.to_csv(output_path, sep=';')"
   ]
  }
 ],
 "metadata": {
  "kernelspec": {
   "display_name": ".venv",
   "language": "python",
   "name": "python3"
  },
  "language_info": {
   "codemirror_mode": {
    "name": "ipython",
    "version": 3
   },
   "file_extension": ".py",
   "mimetype": "text/x-python",
   "name": "python",
   "nbconvert_exporter": "python",
   "pygments_lexer": "ipython3",
   "version": "3.11.5"
  }
 },
 "nbformat": 4,
 "nbformat_minor": 2
}
