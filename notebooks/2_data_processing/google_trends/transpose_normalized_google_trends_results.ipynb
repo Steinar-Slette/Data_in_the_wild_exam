{
 "cells": [
  {
   "cell_type": "markdown",
   "metadata": {},
   "source": [
    "# Transpose data for better readability\n",
    "Right know each keyword has its own column. After transposing the data there will be one column for all the keywords and 31 columns for each date."
   ]
  },
  {
   "cell_type": "markdown",
   "metadata": {},
   "source": [
    "### Import required libraries"
   ]
  },
  {
   "cell_type": "code",
   "execution_count": 1,
   "metadata": {},
   "outputs": [],
   "source": [
    "import pandas as pd"
   ]
  },
  {
   "cell_type": "code",
   "execution_count": 4,
   "metadata": {},
   "outputs": [],
   "source": [
    "input_path = \"../../../data/interim/google_trends/2022_normalized_results.csv\" # can be modified\n",
    "output_path = \"2022_google_trends_normalized_transposed.csv\" # can be modified\n",
    "\n",
    "# Load the CSV files\n",
    "df_normalized_results = pd.read_csv(input_path, sep=';')\n",
    "\n",
    "# Transpose the DataFrame\n",
    "df_transposed = df_normalized_results.transpose()\n",
    "\n",
    "# Make the first row as the header\n",
    "df_transposed.columns = df_transposed.iloc[0]\n",
    "df_transposed = df_transposed[1:]\n",
    "\n",
    "# Rename the index to 'Keywords'\n",
    "df_transposed.index.name = 'Keywords'\n",
    "\n",
    "# Save the reshaped DataFrame to a CSV file, keeping the old column names in the first column\n",
    "df_transposed.to_csv(output_path, sep=';', index=True)"
   ]
  }
 ],
 "metadata": {
  "kernelspec": {
   "display_name": ".venv",
   "language": "python",
   "name": "python3"
  },
  "language_info": {
   "codemirror_mode": {
    "name": "ipython",
    "version": 3
   },
   "file_extension": ".py",
   "mimetype": "text/x-python",
   "name": "python",
   "nbconvert_exporter": "python",
   "pygments_lexer": "ipython3",
   "version": "3.11.5"
  }
 },
 "nbformat": 4,
 "nbformat_minor": 2
}
