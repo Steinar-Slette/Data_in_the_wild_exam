{
 "cells": [
  {
   "cell_type": "code",
   "execution_count": 51,
   "metadata": {},
   "outputs": [],
   "source": [
    "import pandas as pd"
   ]
  },
  {
   "cell_type": "code",
   "execution_count": 52,
   "metadata": {},
   "outputs": [],
   "source": [
    "\n",
    "def convert_date(date_str):\n",
    "    date_str = date_str.rsplit(',', 1)[0]  # Remove timezone\n",
    "    date = pd.to_datetime(date_str, format='%A %d %B %Y %H:%M', errors='coerce')\n",
    "    return date.strftime('%Y-%m-%d')\n",
    "\n"
   ]
  },
  {
   "cell_type": "code",
   "execution_count": 84,
   "metadata": {},
   "outputs": [],
   "source": [
    "\n",
    "df = pd.read_csv(\"data/annotation/formatted_category/2022_January_skynews_annotated_cleaned.csv\", sep=';')\n",
    "df.dropna(subset=['Date'], inplace=True)\n",
    "\n",
    "df['Date'] = df['Date'].apply(convert_date)\n",
    "df.to_csv(\"2022_January_skynews_annotated_cleaned_converted.csv\", sep=';')\n"
   ]
  },
  {
   "cell_type": "code",
   "execution_count": 85,
   "metadata": {},
   "outputs": [
    {
     "name": "stdout",
     "output_type": "stream",
     "text": [
      "(1514, 13)\n"
     ]
    }
   ],
   "source": [
    "# Remove articles with old publishing date\n",
    "df['Date'] = pd.to_datetime(df['Date'])\n",
    "df = df[df['Date'].dt.year == 2022]\n",
    "df = df[df['Date'].dt.month == 1]\n",
    "\n",
    "df.to_csv(\"2022_January_skynews_annotated_cleaned_filtered.csv\", sep=';')\n",
    "\n",
    "print(df.shape)"
   ]
  }
 ],
 "metadata": {
  "kernelspec": {
   "display_name": ".venv",
   "language": "python",
   "name": "python3"
  },
  "language_info": {
   "codemirror_mode": {
    "name": "ipython",
    "version": 3
   },
   "file_extension": ".py",
   "mimetype": "text/x-python",
   "name": "python",
   "nbconvert_exporter": "python",
   "pygments_lexer": "ipython3",
   "version": "3.11.5"
  }
 },
 "nbformat": 4,
 "nbformat_minor": 2
}
