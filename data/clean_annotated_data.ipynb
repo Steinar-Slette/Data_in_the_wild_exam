{
 "cells": [
  {
   "cell_type": "code",
   "execution_count": 2,
   "metadata": {},
   "outputs": [],
   "source": [
    "import pandas as pd"
   ]
  },
  {
   "cell_type": "markdown",
   "metadata": {},
   "source": [
    "## Remove unnecessary parts of chat gpt annotation"
   ]
  },
  {
   "cell_type": "code",
   "execution_count": 20,
   "metadata": {},
   "outputs": [],
   "source": [
    "df = pd.read_csv(\"annotation/raw/2023-01-31_skynews_openai_result.csv\", sep=';')\n",
    "df.loc[(df['Chat GPT'].str.contains('Category-1')) | (df['Chat GPT'].str.contains('1')), 'Chat GPT'] = 'politics'\n",
    "df.loc[(df['Chat GPT'].str.contains('Category-2')) | (df['Chat GPT'].str.contains('2')), 'Chat GPT'] = 'business and economy'\n",
    "df.loc[(df['Chat GPT'].str.contains('Category-3')) | (df['Chat GPT'].str.contains('3')), 'Chat GPT'] = 'environment'\n",
    "df.loc[(df['Chat GPT'].str.contains('Category-4')) | (df['Chat GPT'].str.contains('4')), 'Chat GPT'] = 'sports'\n",
    "df.loc[(df['Chat GPT'].str.contains('Category-5')) | (df['Chat GPT'].str.contains('5')), 'Chat GPT'] = 'entertainment and culture'\n",
    "df.loc[(df['Chat GPT'].str.contains('Category-6')) | (df['Chat GPT'].str.contains('6')), 'Chat GPT'] = 'science and technology'\n",
    "df.loc[(df['Chat GPT'].str.contains('Category-7')) | (df['Chat GPT'].str.contains('7')), 'Chat GPT'] = 'health'\n",
    "\n",
    "\n",
    "# Uncomment to save results\n",
    "# df.to_csv(\"2023_January_skynews_annotated_cleaned.csv\", sep=';')"
   ]
  }
 ],
 "metadata": {
  "kernelspec": {
   "display_name": ".venv",
   "language": "python",
   "name": "python3"
  },
  "language_info": {
   "codemirror_mode": {
    "name": "ipython",
    "version": 3
   },
   "file_extension": ".py",
   "mimetype": "text/x-python",
   "name": "python",
   "nbconvert_exporter": "python",
   "pygments_lexer": "ipython3",
   "version": "3.11.5"
  }
 },
 "nbformat": 4,
 "nbformat_minor": 2
}
