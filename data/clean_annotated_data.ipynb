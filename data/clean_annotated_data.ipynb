{
 "cells": [
  {
   "cell_type": "markdown",
   "metadata": {},
   "source": [
    "## Standardize chatgpt annotation results  "
   ]
  },
  {
   "cell_type": "markdown",
   "metadata": {},
   "source": [
    "### Import required libraries"
   ]
  },
  {
   "cell_type": "code",
   "execution_count": 1,
   "metadata": {},
   "outputs": [],
   "source": [
    "import pandas as pd"
   ]
  },
  {
   "cell_type": "markdown",
   "metadata": {},
   "source": [
    "### Transform the chatgpt annotation results into a standardized format."
   ]
  },
  {
   "cell_type": "code",
   "execution_count": 4,
   "metadata": {},
   "outputs": [],
   "source": [
    "input_data_path = \"annotation/raw/2023-01-31_guardian_openai_results.csv\" # can be modified\n",
    "df = pd.read_csv(input_data_path, sep=';')\n",
    "\n",
    "# Define a dictionary to map category numbers to names\n",
    "category_dict = {\n",
    "    '1': 'politics',\n",
    "    '2': 'business and economy',\n",
    "    '3': 'environment',\n",
    "    '4': 'sports',\n",
    "    '5': 'entertainment and culture',\n",
    "    '6': 'science and technology',\n",
    "    '7': 'health'\n",
    "}\n",
    "\n",
    "# Replace category numbers with names\n",
    "for num, name in category_dict.items():\n",
    "    df.loc[df['Chat GPT'].str.contains(f'Category-{num}') | df['Chat GPT'].str.contains(num), 'Chat GPT'] = name\n",
    "\n",
    "# Save the results\n",
    "result_data_path = \"2023-01-31_guardian_openai_annotated_cleaned.csv\" # can be modified\n",
    "df.to_csv(result_data_path, index=False, sep=';')"
   ]
  },
  {
   "cell_type": "markdown",
   "metadata": {},
   "source": [
    "### Remove unnecesary whitespaces from the dataframes"
   ]
  },
  {
   "cell_type": "code",
   "execution_count": 5,
   "metadata": {},
   "outputs": [],
   "source": [
    "import pandas as pd\n",
    "import re\n",
    "\n",
    "# Load the CSV file\n",
    "df = pd.read_csv(\"annotation/_final/2022_January_skynews_annotated.csv\", sep=\";\")\n",
    "\n",
    "# Define a function to replace multiple consecutive line breaks with a single line break\n",
    "def remove_empty_line_breaks(text):\n",
    "    return re.sub('\\n+', '\\n', text)\n",
    "\n",
    "# Apply the function to each text column\n",
    "for col in df.select_dtypes(include=[object]):\n",
    "    df[col] = df[col].apply(remove_empty_line_breaks)\n",
    "\n",
    "# Save the DataFrame to a CSV file\n",
    "df.to_csv('test.csv', sep=\";\", index=False)"
   ]
  },
  {
   "cell_type": "code",
   "execution_count": 6,
   "metadata": {},
   "outputs": [],
   "source": [
    "# Load the CSV file\n",
    "df = pd.read_csv('test.csv', sep=\";\")\n",
    "\n",
    "# Define a function to remove lines containing only \"Advertisement\"\n",
    "def remove_advertisement_lines(text):\n",
    "    return '\\n'.join([line for line in text.split('\\n') if line.strip().lower() != 'advertisement'])\n",
    "\n",
    "# Apply the function to the 'Text' column\n",
    "df['Text'] = df['Text'].apply(remove_advertisement_lines)\n",
    "\n",
    "# Save the DataFrame to a CSV file\n",
    "df.to_csv('test_cleaned.csv', sep=\";\", index=False)"
   ]
  },
  {
   "cell_type": "code",
   "execution_count": null,
   "metadata": {},
   "outputs": [],
   "source": []
  }
 ],
 "metadata": {
  "kernelspec": {
   "display_name": ".venv",
   "language": "python",
   "name": "python3"
  },
  "language_info": {
   "codemirror_mode": {
    "name": "ipython",
    "version": 3
   },
   "file_extension": ".py",
   "mimetype": "text/x-python",
   "name": "python",
   "nbconvert_exporter": "python",
   "pygments_lexer": "ipython3",
   "version": "3.11.5"
  }
 },
 "nbformat": 4,
 "nbformat_minor": 2
}
