{
 "cells": [
  {
   "cell_type": "code",
   "execution_count": 65,
   "metadata": {},
   "outputs": [
    {
     "name": "stdout",
     "output_type": "stream",
     "text": [
      "(8814, 11)\n",
      "(8239, 11)\n"
     ]
    }
   ],
   "source": [
    "import pandas as pd\n",
    " \n",
    "# creating a data frame\n",
    "df = pd.read_csv(\"2022_not_complete.csv\", sep=';')\n",
    "df.sample(frac=1)\n",
    "\n",
    "df.dropna(subset=['Tags'], inplace=True)\n",
    "df_remove_empty_tags = df.drop(df[df['Tags'] == \"['N/A']\"].index)\n",
    "\n",
    "df_filtered = df_remove_empty_tags.drop(df_remove_empty_tags[df_remove_empty_tags['Tags'] == \"[]\"].index)\n",
    "\n",
    "\n",
    "df1 = df_filtered.sample(frac =.1)\n",
    "df1.to_csv(\"2022_not_complete_sample.csv\", sep=';')\n",
    " "
   ]
  }
 ],
 "metadata": {
  "kernelspec": {
   "display_name": ".venv",
   "language": "python",
   "name": "python3"
  },
  "language_info": {
   "name": "python",
   "version": "3.11.5"
  }
 },
 "nbformat": 4,
 "nbformat_minor": 2
}
