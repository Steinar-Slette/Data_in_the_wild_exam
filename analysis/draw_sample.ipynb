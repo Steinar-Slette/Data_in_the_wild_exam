{
 "cells": [
  {
   "cell_type": "markdown",
   "metadata": {},
   "source": [
    "# Draw random sample of articles"
   ]
  },
  {
   "cell_type": "code",
   "execution_count": 2,
   "metadata": {},
   "outputs": [],
   "source": [
    "import pandas as pd\n",
    "\n",
    "# Define the path to the input data\n",
    "input_data_path = \"2022_articles.csv\"  # TODO: Modify path as needed\n",
    "\n",
    "# Load the data into a DataFrame\n",
    "df = pd.read_csv(input_data_path, sep=';')\n",
    "\n",
    "# Shuffle the DataFrame\n",
    "df = df.sample(frac=1)\n",
    "\n",
    "# TODO keep or remove?\n",
    "# Remove rows where 'Tags' is NaN or \"['N/A']\" or \"[]\"\n",
    "df = df.dropna(subset=['Tags'])\n",
    "df = df[df['Tags'] != \"['N/A']\"]\n",
    "df = df[df['Tags'] != \"[]\"]\n",
    "\n",
    "# Sample 10% of the data\n",
    "df_sample = df.sample(frac=0.1)\n",
    "\n",
    "# Save the sample to a CSV file\n",
    "df_sample.to_csv(\"2022_not_complete_sample.csv\", index=False, sep=';')"
   ]
  }
 ],
 "metadata": {
  "kernelspec": {
   "display_name": ".venv",
   "language": "python",
   "name": "python3"
  },
  "language_info": {
   "codemirror_mode": {
    "name": "ipython",
    "version": 3
   },
   "file_extension": ".py",
   "mimetype": "text/x-python",
   "name": "python",
   "nbconvert_exporter": "python",
   "pygments_lexer": "ipython3",
   "version": "3.11.5"
  }
 },
 "nbformat": 4,
 "nbformat_minor": 2
}
